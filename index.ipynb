{
 "cells": [
  {
   "cell_type": "markdown",
   "metadata": {},
   "source": [
    "# Probability of weather in two cities"
   ]
  },
  {
   "cell_type": "code",
   "execution_count": 10,
   "metadata": {
    "ExecuteTime": {
     "end_time": "2020-06-02T03:02:48.192911Z",
     "start_time": "2020-06-02T03:02:48.173916Z"
    }
   },
   "outputs": [
    {
     "data": {
      "text/html": [
       "<div>\n",
       "<style scoped>\n",
       "    .dataframe tbody tr th:only-of-type {\n",
       "        vertical-align: middle;\n",
       "    }\n",
       "\n",
       "    .dataframe tbody tr th {\n",
       "        vertical-align: top;\n",
       "    }\n",
       "\n",
       "    .dataframe thead th {\n",
       "        text-align: right;\n",
       "    }\n",
       "</style>\n",
       "<table border=\"1\" class=\"dataframe\">\n",
       "  <thead>\n",
       "    <tr style=\"text-align: right;\">\n",
       "      <th></th>\n",
       "      <th>Cloudy</th>\n",
       "      <th>Rainy</th>\n",
       "      <th>Sunny</th>\n",
       "    </tr>\n",
       "  </thead>\n",
       "  <tbody>\n",
       "    <tr>\n",
       "      <th>Sunny</th>\n",
       "      <td>2</td>\n",
       "      <td>0</td>\n",
       "      <td>6</td>\n",
       "    </tr>\n",
       "    <tr>\n",
       "      <th>Cloudy</th>\n",
       "      <td>5</td>\n",
       "      <td>2</td>\n",
       "      <td>1</td>\n",
       "    </tr>\n",
       "    <tr>\n",
       "      <th>Rainy</th>\n",
       "      <td>1</td>\n",
       "      <td>3</td>\n",
       "      <td>0</td>\n",
       "    </tr>\n",
       "  </tbody>\n",
       "</table>\n",
       "</div>"
      ],
      "text/plain": [
       "        Cloudy  Rainy  Sunny\n",
       "Sunny        2      0      6\n",
       "Cloudy       5      2      1\n",
       "Rainy        1      3      0"
      ]
     },
     "execution_count": 10,
     "metadata": {},
     "output_type": "execute_result"
    }
   ],
   "source": [
    "# Run this cell unchanged\n",
    "import pandas as pd\n",
    "\n",
    "data = [{'Sunny': 6, 'Cloudy': 2, 'Rainy': 0},\n",
    "       {'Sunny': 1, 'Cloudy': 5, 'Rainy': 2},\n",
    "       {'Sunny': 0, 'Cloudy': 1, 'Rainy': 3}]\n",
    "\n",
    "df = pd.DataFrame(data, index = ['Sunny', 'Cloudy', 'Rainy'])\n",
    "df.head()"
   ]
  },
  {
   "cell_type": "code",
   "execution_count": 2,
   "metadata": {
    "ExecuteTime": {
     "end_time": "2020-06-02T02:56:54.372464Z",
     "start_time": "2020-06-02T02:56:54.361157Z"
    }
   },
   "outputs": [
    {
     "data": {
      "text/html": [
       "<div>\n",
       "<style scoped>\n",
       "    .dataframe tbody tr th:only-of-type {\n",
       "        vertical-align: middle;\n",
       "    }\n",
       "\n",
       "    .dataframe tbody tr th {\n",
       "        vertical-align: top;\n",
       "    }\n",
       "\n",
       "    .dataframe thead th {\n",
       "        text-align: right;\n",
       "    }\n",
       "</style>\n",
       "<table border=\"1\" class=\"dataframe\">\n",
       "  <thead>\n",
       "    <tr style=\"text-align: right;\">\n",
       "      <th></th>\n",
       "      <th>Cloudy</th>\n",
       "      <th>Rainy</th>\n",
       "      <th>Sunny</th>\n",
       "    </tr>\n",
       "  </thead>\n",
       "  <tbody>\n",
       "    <tr>\n",
       "      <th>Sunny</th>\n",
       "      <td>2</td>\n",
       "      <td>0</td>\n",
       "      <td>6</td>\n",
       "    </tr>\n",
       "    <tr>\n",
       "      <th>Cloudy</th>\n",
       "      <td>5</td>\n",
       "      <td>2</td>\n",
       "      <td>1</td>\n",
       "    </tr>\n",
       "    <tr>\n",
       "      <th>Rainy</th>\n",
       "      <td>1</td>\n",
       "      <td>3</td>\n",
       "      <td>0</td>\n",
       "    </tr>\n",
       "  </tbody>\n",
       "</table>\n",
       "</div>"
      ],
      "text/plain": [
       "        Cloudy  Rainy  Sunny\n",
       "Sunny        2      0      6\n",
       "Cloudy       5      2      1\n",
       "Rainy        1      3      0"
      ]
     },
     "execution_count": 2,
     "metadata": {},
     "output_type": "execute_result"
    }
   ],
   "source": [
    "# __SOLUTION__\n",
    "# Run this cell unchanged\n",
    "import pandas as pd\n",
    "\n",
    "data = [{'Sunny': 6, 'Cloudy': 2, 'Rainy': 0},\n",
    "       {'Sunny': 1, 'Cloudy': 5, 'Rainy': 2},\n",
    "       {'Sunny': 0, 'Cloudy': 1, 'Rainy': 3}]\n",
    "\n",
    "df = pd.DataFrame(data, index = ['Sunny', 'Cloudy', 'Rainy'])\n",
    "df.head()"
   ]
  },
  {
   "cell_type": "markdown",
   "metadata": {
    "ExecuteTime": {
     "end_time": "2020-06-02T02:54:12.530981Z",
     "start_time": "2020-06-02T02:54:12.523178Z"
    }
   },
   "source": [
    "The above dataframe represents the joint weather events for two neighboring cities over a time frame of 20 days. \n",
    "\n",
    "The index represents ```Town 1``` and the columns represent ```Town 2```\n",
    "\n",
    "The values represent the number of days the two weather events occurred.\n",
    ">ie. There were 2 days out of 20 it was Sunny in ```Town 1``` and Cloudy in ```Town 2```"
   ]
  },
  {
   "cell_type": "markdown",
   "metadata": {},
   "source": [
    "## Question 1"
   ]
  },
  {
   "cell_type": "markdown",
   "metadata": {},
   "source": [
    "What is the probability of it being Sunny in both towns at the same time?\n",
    "\n",
    "$P(Town1=Sunny ∩ Town2=Sunny)$"
   ]
  },
  {
   "cell_type": "code",
   "execution_count": null,
   "metadata": {
    "ExecuteTime": {
     "end_time": "2020-06-02T02:53:48.707213Z",
     "start_time": "2020-06-02T02:53:48.704373Z"
    }
   },
   "outputs": [],
   "source": [
    "sunny_town1_sunny_town2 = None"
   ]
  },
  {
   "cell_type": "code",
   "execution_count": 3,
   "metadata": {
    "ExecuteTime": {
     "end_time": "2020-06-02T02:56:59.566391Z",
     "start_time": "2020-06-02T02:56:59.563818Z"
    }
   },
   "outputs": [],
   "source": [
    "# __SOLUTION__\n",
    "sunny_town1_sunny_town2 = 6/20"
   ]
  },
  {
   "cell_type": "markdown",
   "metadata": {},
   "source": [
    "## Question 2\n",
    "\n",
    "What is the probability of it not being Rainy in ```Town1``` and Rainy in ```Town2```?\n",
    "\n",
    "$P(Town1 ∈ {Sunny ∪ Cloudy} ∩ Town2=Rainy)$"
   ]
  },
  {
   "cell_type": "code",
   "execution_count": null,
   "metadata": {},
   "outputs": [],
   "source": [
    "no_rain_town1_rain_town2 = None"
   ]
  },
  {
   "cell_type": "code",
   "execution_count": 4,
   "metadata": {
    "ExecuteTime": {
     "end_time": "2020-06-02T02:57:02.075369Z",
     "start_time": "2020-06-02T02:57:02.072153Z"
    }
   },
   "outputs": [],
   "source": [
    "# __SOLUTION__\n",
    "no_rain_town1_rain_town2 = 0/20 + 2/20"
   ]
  },
  {
   "cell_type": "markdown",
   "metadata": {},
   "source": [
    "## Question 3"
   ]
  },
  {
   "cell_type": "markdown",
   "metadata": {},
   "source": [
    "What is the probability of it being Sunny in ```Town2``` <u>regardless of the weather</u> in ```Town1```?\n",
    "\n",
    "$$P(Town2=Sunny) =$$ \n",
    "$$P(Town2=Sunny ∩ Town1=Sunny) + $$\n",
    "$$P(Town2=Sunny ∩ Town1=Cloudy)+ $$\n",
    "$$P(Town2=Sunny ∩ Town1=Rainy)$$"
   ]
  },
  {
   "cell_type": "code",
   "execution_count": null,
   "metadata": {},
   "outputs": [],
   "source": [
    "sunny_town2 = None"
   ]
  },
  {
   "cell_type": "code",
   "execution_count": 5,
   "metadata": {
    "ExecuteTime": {
     "end_time": "2020-06-02T02:57:04.536921Z",
     "start_time": "2020-06-02T02:57:04.533296Z"
    }
   },
   "outputs": [],
   "source": [
    "# __SOLUTION__\n",
    "\n",
    "sunny_town2 = df.Sunny.sum()/20"
   ]
  },
  {
   "cell_type": "markdown",
   "metadata": {},
   "source": [
    "## Question 4\n",
    "\n",
    "What is the probability  of it being Sunny in ```Town1``` given that it is Sunny in ```Town2```?\n",
    "\n",
    "$P(Town1=Sunny|Town2=Sunny) = \\displaystyle \\frac{P(Town1=Sunny∩Town2=Sunny)}{P(Town2=Sunny)}$"
   ]
  },
  {
   "cell_type": "code",
   "execution_count": null,
   "metadata": {
    "ExecuteTime": {
     "end_time": "2020-06-02T02:40:17.073855Z",
     "start_time": "2020-06-02T02:40:17.066312Z"
    }
   },
   "outputs": [],
   "source": [
    "sunny_town1_given_sunny_town2 = None"
   ]
  },
  {
   "cell_type": "code",
   "execution_count": 6,
   "metadata": {
    "ExecuteTime": {
     "end_time": "2020-06-02T03:00:35.006840Z",
     "start_time": "2020-06-02T03:00:35.004641Z"
    }
   },
   "outputs": [],
   "source": [
    "# __SOLUTION__\n",
    "\n",
    "sunny_town1_given_sunny_town2 = sunny_town1_sunny_town2/sunny_town2"
   ]
  },
  {
   "cell_type": "markdown",
   "metadata": {
    "ExecuteTime": {
     "end_time": "2020-06-02T02:45:51.728741Z",
     "start_time": "2020-06-02T02:45:51.723087Z"
    }
   },
   "source": [
    "## Question 5\n",
    "\n",
    "What is the probability of it being Sunny in ```Town2``` given that it is Sunny in ```Town1```?\n",
    "\n",
    "$P(Town2=Sunny|Town1=Sunny) = \\displaystyle \\frac{P(Town2=Sunny∩Town1=Sunny)}{P(Town1=Sunny)}$"
   ]
  },
  {
   "cell_type": "code",
   "execution_count": 8,
   "metadata": {
    "ExecuteTime": {
     "end_time": "2020-06-02T03:00:58.555644Z",
     "start_time": "2020-06-02T03:00:58.552572Z"
    }
   },
   "outputs": [],
   "source": [
    "sunny_town1 = df.loc['Sunny'].sum()/20\n",
    "sunny_town2_given_sunny_town1 = sunny_town1_sunny_town2/sunny_town1"
   ]
  }
 ],
 "metadata": {
  "hide_input": false,
  "kernelspec": {
   "display_name": "Python 3",
   "language": "python",
   "name": "python3"
  },
  "language_info": {
   "codemirror_mode": {
    "name": "ipython",
    "version": 3
   },
   "file_extension": ".py",
   "mimetype": "text/x-python",
   "name": "python",
   "nbconvert_exporter": "python",
   "pygments_lexer": "ipython3",
   "version": "3.7.3"
  },
  "toc": {
   "base_numbering": 1,
   "nav_menu": {},
   "number_sections": false,
   "sideBar": true,
   "skip_h1_title": true,
   "title_cell": "Table of Contents",
   "title_sidebar": "Contents",
   "toc_cell": false,
   "toc_position": {},
   "toc_section_display": true,
   "toc_window_display": false
  },
  "varInspector": {
   "cols": {
    "lenName": 16,
    "lenType": 16,
    "lenVar": 40
   },
   "kernels_config": {
    "python": {
     "delete_cmd_postfix": "",
     "delete_cmd_prefix": "del ",
     "library": "var_list.py",
     "varRefreshCmd": "print(var_dic_list())"
    },
    "r": {
     "delete_cmd_postfix": ") ",
     "delete_cmd_prefix": "rm(",
     "library": "var_list.r",
     "varRefreshCmd": "cat(var_dic_list()) "
    }
   },
   "types_to_exclude": [
    "module",
    "function",
    "builtin_function_or_method",
    "instance",
    "_Feature"
   ],
   "window_display": false
  }
 },
 "nbformat": 4,
 "nbformat_minor": 2
}
